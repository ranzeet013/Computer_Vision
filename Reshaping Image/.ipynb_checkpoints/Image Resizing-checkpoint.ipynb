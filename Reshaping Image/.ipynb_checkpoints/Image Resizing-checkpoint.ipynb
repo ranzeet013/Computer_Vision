{
 "cells": [
  {
   "cell_type": "markdown",
   "id": "8ddb321a",
   "metadata": {},
   "source": [
    "# Resizing Image"
   ]
  },
  {
   "cell_type": "markdown",
   "id": "5a8f53ff",
   "metadata": {},
   "source": [
    "To resize an image using the OpenCV library in Python, we can make use of the cv2.resize() function. This function allows us to specify the desired size for the output image."
   ]
  },
  {
   "cell_type": "code",
   "execution_count": 1,
   "id": "64b00236",
   "metadata": {},
   "outputs": [],
   "source": [
    "import cv2\n",
    "import numpy as np"
   ]
  },
  {
   "cell_type": "code",
   "execution_count": 5,
   "id": "73c66e24",
   "metadata": {},
   "outputs": [],
   "source": [
    "image = cv2.imread(r'C:\\Users\\DELL\\Desktop\\python project\\open cv2\\reshizing image\\iroha.jpg')"
   ]
  },
  {
   "cell_type": "code",
   "execution_count": 8,
   "id": "77b06896",
   "metadata": {},
   "outputs": [],
   "source": [
    "cv2.imshow('Oregeiru', image)\n",
    "cv2.waitKey(0)\n",
    "cv2.destroyAllWindows()"
   ]
  },
  {
   "cell_type": "code",
   "execution_count": 9,
   "id": "21865eaa",
   "metadata": {},
   "outputs": [
    {
     "data": {
      "text/plain": [
       "(455, 728, 3)"
      ]
     },
     "execution_count": 9,
     "metadata": {},
     "output_type": "execute_result"
    }
   ],
   "source": [
    "image.shape"
   ]
  },
  {
   "cell_type": "code",
   "execution_count": 10,
   "id": "378349c5",
   "metadata": {},
   "outputs": [],
   "source": [
    "image_resize = cv2.resize(image, (350, 350), interpolation = cv2.INTER_AREA)"
   ]
  },
  {
   "cell_type": "code",
   "execution_count": 12,
   "id": "64c479a5",
   "metadata": {},
   "outputs": [],
   "source": [
    "cv2.imshow('Resized Image', image_resize)\n",
    "cv2.imshow('Oregairu', image)\n",
    "cv2.waitKey(0)\n",
    "cv2.destroyAllWindows()"
   ]
  }
 ],
 "metadata": {
  "kernelspec": {
   "display_name": "Python 3 (ipykernel)",
   "language": "python",
   "name": "python3"
  },
  "language_info": {
   "codemirror_mode": {
    "name": "ipython",
    "version": 3
   },
   "file_extension": ".py",
   "mimetype": "text/x-python",
   "name": "python",
   "nbconvert_exporter": "python",
   "pygments_lexer": "ipython3",
   "version": "3.10.9"
  }
 },
 "nbformat": 4,
 "nbformat_minor": 5
}
