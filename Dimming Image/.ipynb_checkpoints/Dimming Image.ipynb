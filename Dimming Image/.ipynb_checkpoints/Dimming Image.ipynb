{
 "cells": [
  {
   "cell_type": "markdown",
   "id": "44545d07",
   "metadata": {},
   "source": [
    "# Dimming Image"
   ]
  },
  {
   "cell_type": "markdown",
   "id": "74aae84d",
   "metadata": {},
   "source": [
    "In this project, the aim is to develop a program that can reduce the brightness of images by adjusting the pixel values. The program will take an input image and apply a darkening effect to make the image appear darker. "
   ]
  },
  {
   "cell_type": "code",
   "execution_count": 1,
   "id": "db415765",
   "metadata": {},
   "outputs": [],
   "source": [
    "import cv2\n",
    "import numpy as np"
   ]
  },
  {
   "cell_type": "code",
   "execution_count": 2,
   "id": "eacfc694",
   "metadata": {},
   "outputs": [],
   "source": [
    "image = cv2.imread(r'C:\\Users\\DELL\\Desktop\\python project\\open cv2\\image transform\\iroha.jpg', cv2.IMREAD_COLOR)"
   ]
  },
  {
   "cell_type": "code",
   "execution_count": 3,
   "id": "897be3c9",
   "metadata": {},
   "outputs": [],
   "source": [
    "cv2.imshow('image', image)\n",
    "cv2.waitKey(0)\n",
    "cv2.destroyAllWindows()"
   ]
  },
  {
   "cell_type": "code",
   "execution_count": 4,
   "id": "44655738",
   "metadata": {},
   "outputs": [],
   "source": [
    "sub_values = np.ones_like(image, dtype = 'uint8')*75"
   ]
  },
  {
   "cell_type": "code",
   "execution_count": 5,
   "id": "fc8fe3cd",
   "metadata": {},
   "outputs": [],
   "source": [
    "cv2.imshow('sub_values', sub_values)\n",
    "cv2.waitKey(0)\n",
    "cv2.destroyAllWindows()"
   ]
  },
  {
   "cell_type": "code",
   "execution_count": 6,
   "id": "cc798f46",
   "metadata": {},
   "outputs": [],
   "source": [
    "sub_image = cv2.subtract(image, sub_values)"
   ]
  },
  {
   "cell_type": "code",
   "execution_count": 7,
   "id": "8beb2608",
   "metadata": {},
   "outputs": [],
   "source": [
    "cv2.imshow('original_image', image)\n",
    "cv2.imshow('sub_image', sub_image)\n",
    "cv2.waitKey(0)\n",
    "cv2.destroyAllWindows()"
   ]
  }
 ],
 "metadata": {
  "kernelspec": {
   "display_name": "Python 3 (ipykernel)",
   "language": "python",
   "name": "python3"
  },
  "language_info": {
   "codemirror_mode": {
    "name": "ipython",
    "version": 3
   },
   "file_extension": ".py",
   "mimetype": "text/x-python",
   "name": "python",
   "nbconvert_exporter": "python",
   "pygments_lexer": "ipython3",
   "version": "3.10.9"
  }
 },
 "nbformat": 4,
 "nbformat_minor": 5
}
