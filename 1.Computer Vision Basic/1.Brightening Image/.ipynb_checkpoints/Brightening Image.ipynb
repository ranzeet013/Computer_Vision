{
 "cells": [
  {
   "cell_type": "markdown",
   "id": "beef6471",
   "metadata": {},
   "source": [
    "# Brightening Image"
   ]
  },
  {
   "cell_type": "markdown",
   "id": "1c11f787",
   "metadata": {},
   "source": [
    "In this project, the goal is to develop a program that can brighten images by adjusting the pixel values. The program will take an input image and apply a brightness adjustment to make the image appear brighter."
   ]
  },
  {
   "cell_type": "code",
   "execution_count": 1,
   "id": "6a76bcea",
   "metadata": {},
   "outputs": [],
   "source": [
    "import cv2\n",
    "import numpy as np"
   ]
  },
  {
   "cell_type": "code",
   "execution_count": 2,
   "id": "4c213b80",
   "metadata": {},
   "outputs": [],
   "source": [
    "image = cv2.imread(r'C:\\Users\\DELL\\Desktop\\python project\\open cv2\\image transform\\iroha.jpg', cv2.IMREAD_COLOR)"
   ]
  },
  {
   "cell_type": "code",
   "execution_count": 3,
   "id": "82a38c75",
   "metadata": {},
   "outputs": [],
   "source": [
    "cv2.imshow('image', image)\n",
    "cv2.waitKey(0)\n",
    "cv2.destroyAllWindows()"
   ]
  },
  {
   "cell_type": "code",
   "execution_count": 4,
   "id": "ec3055d9",
   "metadata": {},
   "outputs": [],
   "source": [
    "add_values = np.ones_like(image, dtype = 'uint8')*50"
   ]
  },
  {
   "cell_type": "code",
   "execution_count": 5,
   "id": "cd800363",
   "metadata": {},
   "outputs": [],
   "source": [
    "cv2.imshow('add_values', add_values)\n",
    "cv2.waitKey(0)\n",
    "cv2.destroyAllWindows()"
   ]
  },
  {
   "cell_type": "code",
   "execution_count": 6,
   "id": "6f9046ae",
   "metadata": {},
   "outputs": [],
   "source": [
    "add_image = cv2.add(image, add_values)"
   ]
  },
  {
   "cell_type": "code",
   "execution_count": 8,
   "id": "fd63e247",
   "metadata": {},
   "outputs": [],
   "source": [
    "cv2.imshow('original_image', image)\n",
    "cv2.imshow('add_image', add_image)\n",
    "cv2.waitKey(0)\n",
    "cv2.destroyAllWindows()"
   ]
  }
 ],
 "metadata": {
  "kernelspec": {
   "display_name": "Python 3 (ipykernel)",
   "language": "python",
   "name": "python3"
  },
  "language_info": {
   "codemirror_mode": {
    "name": "ipython",
    "version": 3
   },
   "file_extension": ".py",
   "mimetype": "text/x-python",
   "name": "python",
   "nbconvert_exporter": "python",
   "pygments_lexer": "ipython3",
   "version": "3.10.9"
  }
 },
 "nbformat": 4,
 "nbformat_minor": 5
}
