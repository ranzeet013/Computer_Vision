{
 "cells": [
  {
   "cell_type": "markdown",
   "id": "4c7d5f91",
   "metadata": {},
   "source": [
    "# Displaying Image"
   ]
  },
  {
   "cell_type": "code",
   "execution_count": 1,
   "id": "28da2f00",
   "metadata": {},
   "outputs": [],
   "source": [
    "import cv2\n",
    "import numpy as np"
   ]
  },
  {
   "cell_type": "code",
   "execution_count": 2,
   "id": "799cda26",
   "metadata": {},
   "outputs": [],
   "source": [
    "image = cv2.imread(r'C:\\Users\\DELL\\Desktop\\python project\\open cv2\\New folder\\iroha.jpg')"
   ]
  },
  {
   "cell_type": "code",
   "execution_count": 3,
   "id": "00f0a766",
   "metadata": {},
   "outputs": [],
   "source": [
    "cv2.imshow('Iroha And Yuighama', image)                   #orginal image"
   ]
  },
  {
   "cell_type": "code",
   "execution_count": 4,
   "id": "24dcf1c8",
   "metadata": {},
   "outputs": [],
   "source": [
    "cv2.waitKey(0)\n",
    "cv2.destroyAllWindows()"
   ]
  },
  {
   "cell_type": "code",
   "execution_count": 17,
   "id": "10cf51ab",
   "metadata": {},
   "outputs": [
    {
     "data": {
      "text/plain": [
       "(455, 728, 3)"
      ]
     },
     "execution_count": 17,
     "metadata": {},
     "output_type": "execute_result"
    }
   ],
   "source": [
    "image.shape"
   ]
  },
  {
   "cell_type": "markdown",
   "id": "6e4c2bd6",
   "metadata": {},
   "source": [
    "# Converting To GrayScale"
   ]
  },
  {
   "cell_type": "markdown",
   "id": "e49d72f0",
   "metadata": {},
   "source": [
    "Grayscale refers to an image or display mode that represents shades of gray or black and white, rather than color. In a grayscale image, each pixel is assigned a gray value ranging from 0 (black) to 255 (white), with various shades of gray in between."
   ]
  },
  {
   "cell_type": "code",
   "execution_count": 5,
   "id": "9cfda3f3",
   "metadata": {},
   "outputs": [],
   "source": [
    "gray_image = cv2.cvtColor(image, cv2.COLOR_BGR2GRAY)                       #converting to gray image"
   ]
  },
  {
   "cell_type": "code",
   "execution_count": 8,
   "id": "75a63d91",
   "metadata": {},
   "outputs": [],
   "source": [
    "cv2.imshow('Iroha And Yuigahama', image)\n",
    "cv2.imshow('Gray Image', gray_image)\n",
    "cv2.waitKey(0)\n",
    "cv2.destroyAllWindows()"
   ]
  },
  {
   "cell_type": "code",
   "execution_count": 16,
   "id": "b0fbd935",
   "metadata": {},
   "outputs": [
    {
     "data": {
      "text/plain": [
       "(455, 728)"
      ]
     },
     "execution_count": 16,
     "metadata": {},
     "output_type": "execute_result"
    }
   ],
   "source": [
    "gray_image.shape"
   ]
  },
  {
   "cell_type": "markdown",
   "id": "6f9909c7",
   "metadata": {},
   "source": [
    "# Gaussian Blur"
   ]
  },
  {
   "cell_type": "markdown",
   "id": "57b16752",
   "metadata": {},
   "source": [
    "Gaussian blur is a popular image processing technique used to reduce image noise and smooth out details by applying a specific type of blur known as a Gaussian function."
   ]
  },
  {
   "cell_type": "code",
   "execution_count": 10,
   "id": "2e632695",
   "metadata": {},
   "outputs": [],
   "source": [
    "gaussian_blur = cv2.GaussianBlur(image, (5, 5), 0)                    #converting to gaussian blur "
   ]
  },
  {
   "cell_type": "code",
   "execution_count": 11,
   "id": "f6f540da",
   "metadata": {},
   "outputs": [],
   "source": [
    "cv2.imshow('Iroha And Yui', image)\n",
    "cv2.imshow('Gaussian Blur Image', gaussian_blur)\n",
    "cv2.waitKey(0)\n",
    "cv2.destroyAllWindows()"
   ]
  },
  {
   "cell_type": "code",
   "execution_count": 15,
   "id": "215ae3b6",
   "metadata": {},
   "outputs": [
    {
     "data": {
      "text/plain": [
       "(455, 728, 3)"
      ]
     },
     "execution_count": 15,
     "metadata": {},
     "output_type": "execute_result"
    }
   ],
   "source": [
    "gaussian_blur.shape"
   ]
  },
  {
   "cell_type": "markdown",
   "id": "3c0767c9",
   "metadata": {},
   "source": [
    "# Division Image"
   ]
  },
  {
   "cell_type": "code",
   "execution_count": 18,
   "id": "04751715",
   "metadata": {},
   "outputs": [],
   "source": [
    "division_image = cv2.divide(image, gaussian_blur, scale = 256)          #converting to division image"
   ]
  },
  {
   "cell_type": "code",
   "execution_count": 19,
   "id": "20df6c00",
   "metadata": {},
   "outputs": [],
   "source": [
    "cv2.imshow('Iroha And Yui', image)\n",
    "cv2.imshow('Divison Image', division_image)\n",
    "cv2.waitKey(0)\n",
    "cv2.destroyAllWindows()"
   ]
  },
  {
   "cell_type": "markdown",
   "id": "201bfa14",
   "metadata": {},
   "source": [
    "# Adjusting Gamma Factor"
   ]
  },
  {
   "cell_type": "markdown",
   "id": "57033361",
   "metadata": {},
   "source": [
    "The gamma factor, often denoted as γ (gamma), is a parameter used to adjust the brightness or contrast of digital images. It controls the relationship between the pixel values of the original image and the displayed or processed output."
   ]
  },
  {
   "cell_type": "markdown",
   "id": "de4f3b71",
   "metadata": {},
   "source": [
    "Output = Input^γ"
   ]
  },
  {
   "cell_type": "code",
   "execution_count": 25,
   "id": "7e08fae7",
   "metadata": {},
   "outputs": [],
   "source": [
    "gamma = 0.1                                   #adjusting value of gamma\n",
    "if gamma == 0:                                #keeping gamma value to smallest value\n",
    "    gamma = 0.01              \n",
    "\n",
    "invgamma = 1/gamma                            #calculating inverse gamma\n",
    "look_up_table = np.array([((i/255)**invgamma)*255 for i in range (0, 256)])         #normalizing the gamma value \n",
    "\n",
    "pencil_sketch = cv2.LUT(division_image.astype('uint8'), look_up_table.astype('uint8'))       #unidentifiedint8 in use"
   ]
  },
  {
   "cell_type": "code",
   "execution_count": 26,
   "id": "ef12d217",
   "metadata": {},
   "outputs": [],
   "source": [
    "cv2.imshow('Iroha And Yui', image)\n",
    "cv2.imshow('Pencil_Sketch', pencil_sketch)\n",
    "cv2.waitKey(0)\n",
    "cv2.destroyAllWindows()"
   ]
  }
 ],
 "metadata": {
  "kernelspec": {
   "display_name": "Python 3 (ipykernel)",
   "language": "python",
   "name": "python3"
  },
  "language_info": {
   "codemirror_mode": {
    "name": "ipython",
    "version": 3
   },
   "file_extension": ".py",
   "mimetype": "text/x-python",
   "name": "python",
   "nbconvert_exporter": "python",
   "pygments_lexer": "ipython3",
   "version": "3.10.9"
  }
 },
 "nbformat": 4,
 "nbformat_minor": 5
}
