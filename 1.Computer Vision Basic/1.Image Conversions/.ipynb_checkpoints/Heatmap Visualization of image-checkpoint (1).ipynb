{
 "cells": [
  {
   "cell_type": "markdown",
   "id": "9de2f5ae",
   "metadata": {},
   "source": [
    "# Importing Libraries"
   ]
  },
  {
   "cell_type": "markdown",
   "id": "ac3d553e",
   "metadata": {},
   "source": [
    "cv2 is the OpenCV library for image processing and manipulation.\n",
    "\n",
    "numpy (abbreviated as np) is a library for numerical operations, often used for array manipulation.\n",
    "\n",
    "matplotlib.pyplot (abbreviated as plt) is a library for creating visualizations, including displaying images."
   ]
  },
  {
   "cell_type": "code",
   "execution_count": 1,
   "id": "9daf3dcf",
   "metadata": {},
   "outputs": [],
   "source": [
    "import cv2\n",
    "import numpy as np\n",
    "import matplotlib.pyplot as plt"
   ]
  },
  {
   "cell_type": "markdown",
   "id": "5ef4cce8",
   "metadata": {},
   "source": [
    "# Displaying Image"
   ]
  },
  {
   "cell_type": "code",
   "execution_count": 2,
   "id": "636a415d",
   "metadata": {},
   "outputs": [],
   "source": [
    "image = cv2.imread(r'C:\\Users\\DELL\\Desktop\\python project\\open cv2\\heatmap\\iroha.jpg')       #image path"
   ]
  },
  {
   "cell_type": "code",
   "execution_count": 5,
   "id": "63717912",
   "metadata": {},
   "outputs": [],
   "source": [
    "cv2.imshow('orginal image', image)                                                           #displaying image\n",
    "cv2.waitKey(0)\n",
    "cv2.destroyAllWindows()"
   ]
  },
  {
   "cell_type": "code",
   "execution_count": 9,
   "id": "b625b467",
   "metadata": {},
   "outputs": [
    {
     "data": {
      "text/plain": [
       "(455, 728, 3)"
      ]
     },
     "execution_count": 9,
     "metadata": {},
     "output_type": "execute_result"
    }
   ],
   "source": [
    "image.shape"
   ]
  },
  {
   "cell_type": "markdown",
   "id": "f02a30bc",
   "metadata": {},
   "source": [
    "# Convering To GrayImage"
   ]
  },
  {
   "cell_type": "code",
   "execution_count": 6,
   "id": "0f7de4cb",
   "metadata": {},
   "outputs": [],
   "source": [
    "gray_image = cv2.cvtColor(image, cv2.COLOR_BGR2GRAY)                                         #converting image to grayscale"
   ]
  },
  {
   "cell_type": "code",
   "execution_count": 8,
   "id": "c804be1c",
   "metadata": {},
   "outputs": [],
   "source": [
    "cv2.imshow('gray_image', gray_image)                                                         #displaying gray image\n",
    "cv2.imshow('Orginal_image', image)\n",
    "cv2.waitKey(0)\n",
    "cv2.destroyAllWindows()"
   ]
  },
  {
   "cell_type": "code",
   "execution_count": 10,
   "id": "0dc3a506",
   "metadata": {},
   "outputs": [
    {
     "data": {
      "text/plain": [
       "(455, 728)"
      ]
     },
     "execution_count": 10,
     "metadata": {},
     "output_type": "execute_result"
    }
   ],
   "source": [
    "gray_image.shape"
   ]
  },
  {
   "cell_type": "markdown",
   "id": "4852d6bf",
   "metadata": {},
   "source": [
    "# Heatmap Visualization"
   ]
  },
  {
   "cell_type": "code",
   "execution_count": 12,
   "id": "4f9f182c",
   "metadata": {},
   "outputs": [],
   "source": [
    "heatmap = cv2.applyColorMap(gray_image, cv2.COLORMAP_JET)                               #applying color map in image"
   ]
  },
  {
   "cell_type": "code",
   "execution_count": 13,
   "id": "d512cd3c",
   "metadata": {},
   "outputs": [],
   "source": [
    "heatmap_image = cv2.addWeighted(image, 0.7, heatmap, 0.3, 0)                            #defining the weighted parameters"
   ]
  },
  {
   "cell_type": "code",
   "execution_count": 15,
   "id": "da57145d",
   "metadata": {},
   "outputs": [],
   "source": [
    "cv2.imshow('Heatmap Visualization', heatmap_image)                                      #visualizing heat map image\n",
    "cv2.imshow('orginal_image', image)\n",
    "cv2.waitKey(0)\n",
    "cv2.destroyAllWindows()"
   ]
  }
 ],
 "metadata": {
  "kernelspec": {
   "display_name": "Python 3 (ipykernel)",
   "language": "python",
   "name": "python3"
  },
  "language_info": {
   "codemirror_mode": {
    "name": "ipython",
    "version": 3
   },
   "file_extension": ".py",
   "mimetype": "text/x-python",
   "name": "python",
   "nbconvert_exporter": "python",
   "pygments_lexer": "ipython3",
   "version": "3.10.9"
  }
 },
 "nbformat": 4,
 "nbformat_minor": 5
}
