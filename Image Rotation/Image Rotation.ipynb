{
 "cells": [
  {
   "cell_type": "markdown",
   "id": "b5353c6e",
   "metadata": {},
   "source": [
    "# Importing Libraries"
   ]
  },
  {
   "cell_type": "markdown",
   "id": "fb980094",
   "metadata": {},
   "source": [
    "OpenCV (cv2) is widely used in fields such as computer vision, image and video processing, machine learning, and robotics. It provides a comprehensive set of functions and algorithms for tasks such as image manipulation, feature detection, object recognition, image filtering, camera calibration, and more."
   ]
  },
  {
   "cell_type": "code",
   "execution_count": 1,
   "id": "4f055e65",
   "metadata": {},
   "outputs": [],
   "source": [
    "import cv2\n",
    "import numpy as np"
   ]
  },
  {
   "cell_type": "markdown",
   "id": "4b1d1ce0",
   "metadata": {},
   "source": [
    "# Displaying Image"
   ]
  },
  {
   "cell_type": "code",
   "execution_count": 28,
   "id": "97524ef1",
   "metadata": {},
   "outputs": [],
   "source": [
    "img = cv2.imread(r'C:\\Users\\DELL\\Desktop\\python project\\open cv2\\image rotation\\iroha.jpg')"
   ]
  },
  {
   "cell_type": "code",
   "execution_count": 4,
   "id": "09323792",
   "metadata": {},
   "outputs": [],
   "source": [
    "cv2.imshow('Orginal Image', image)\n",
    "cv2.waitKey(0)\n",
    "cv2.destroyAllWindows()"
   ]
  },
  {
   "cell_type": "markdown",
   "id": "a42333c4",
   "metadata": {},
   "source": [
    "# Rotating Image"
   ]
  },
  {
   "cell_type": "markdown",
   "id": "b3f96549",
   "metadata": {},
   "source": [
    "The Image Rotator project aims to develop a software application that allows users to rotate images by a specified angle. The project will provide a user-friendly interface where users can load an image file, select the desired rotation angle, and apply the rotation to the image. The rotated image can then be saved to a new file."
   ]
  },
  {
   "cell_type": "code",
   "execution_count": 5,
   "id": "bf4324cf",
   "metadata": {},
   "outputs": [],
   "source": [
    "image_center = (image.shape[1]//2, image.shape[0]//2)"
   ]
  },
  {
   "cell_type": "code",
   "execution_count": 6,
   "id": "5305a162",
   "metadata": {},
   "outputs": [],
   "source": [
    "rotation_matrix = cv2.getRotationMatrix2D(image_center, 90, 1)"
   ]
  },
  {
   "cell_type": "code",
   "execution_count": 7,
   "id": "8a405bba",
   "metadata": {},
   "outputs": [
    {
     "data": {
      "text/plain": [
       "array([[ 6.123234e-17,  1.000000e+00,  1.370000e+02],\n",
       "       [-1.000000e+00,  6.123234e-17,  5.910000e+02]])"
      ]
     },
     "execution_count": 7,
     "metadata": {},
     "output_type": "execute_result"
    }
   ],
   "source": [
    "rotation_matrix"
   ]
  },
  {
   "cell_type": "code",
   "execution_count": 9,
   "id": "51d1fa4c",
   "metadata": {},
   "outputs": [],
   "source": [
    "rotate_90 = cv2.warpAffine(image, rotation_matrix, (image.shape[1], image.shape[0]))"
   ]
  },
  {
   "cell_type": "code",
   "execution_count": 11,
   "id": "7838b9b9",
   "metadata": {},
   "outputs": [
    {
     "data": {
      "text/plain": [
       "'Rotated 90'"
      ]
     },
     "metadata": {},
     "output_type": "display_data"
    },
    {
     "data": {
      "text/plain": [
       "array([[[0, 0, 0],\n",
       "        [0, 0, 0],\n",
       "        [0, 0, 0],\n",
       "        ...,\n",
       "        [0, 0, 0],\n",
       "        [0, 0, 0],\n",
       "        [0, 0, 0]],\n",
       "\n",
       "       [[0, 0, 0],\n",
       "        [0, 0, 0],\n",
       "        [0, 0, 0],\n",
       "        ...,\n",
       "        [0, 0, 0],\n",
       "        [0, 0, 0],\n",
       "        [0, 0, 0]],\n",
       "\n",
       "       [[0, 0, 0],\n",
       "        [0, 0, 0],\n",
       "        [0, 0, 0],\n",
       "        ...,\n",
       "        [0, 0, 0],\n",
       "        [0, 0, 0],\n",
       "        [0, 0, 0]],\n",
       "\n",
       "       ...,\n",
       "\n",
       "       [[0, 0, 0],\n",
       "        [0, 0, 0],\n",
       "        [0, 0, 0],\n",
       "        ...,\n",
       "        [0, 0, 0],\n",
       "        [0, 0, 0],\n",
       "        [0, 0, 0]],\n",
       "\n",
       "       [[0, 0, 0],\n",
       "        [0, 0, 0],\n",
       "        [0, 0, 0],\n",
       "        ...,\n",
       "        [0, 0, 0],\n",
       "        [0, 0, 0],\n",
       "        [0, 0, 0]],\n",
       "\n",
       "       [[0, 0, 0],\n",
       "        [0, 0, 0],\n",
       "        [0, 0, 0],\n",
       "        ...,\n",
       "        [0, 0, 0],\n",
       "        [0, 0, 0],\n",
       "        [0, 0, 0]]], dtype=uint8)"
      ]
     },
     "metadata": {},
     "output_type": "display_data"
    }
   ],
   "source": [
    "display('Rotated 90', rotate_90)"
   ]
  },
  {
   "cell_type": "code",
   "execution_count": 14,
   "id": "4b068925",
   "metadata": {},
   "outputs": [],
   "source": [
    "cv2.imshow('Rotation 90', rotate_90)\n",
    "cv2.waitKey(0)\n",
    "cv2.destroyAllWindows()"
   ]
  },
  {
   "cell_type": "markdown",
   "id": "be07ba71",
   "metadata": {},
   "source": [
    "# Rotation Function"
   ]
  },
  {
   "cell_type": "markdown",
   "id": "b1d94664",
   "metadata": {},
   "source": [
    "Here's a function that rotates an image using the OpenCV library (cv2) in Python:"
   ]
  },
  {
   "cell_type": "code",
   "execution_count": 36,
   "id": "8d05394d",
   "metadata": {},
   "outputs": [],
   "source": [
    "def rotate(image, angle, scale):\n",
    "    center = (image.shape[1]//2, image.shape[0]//2)\n",
    "    M = cv2.getRotationMatrix2D(center, angle, scale)\n",
    "    rotate_img = cv2.warpAffine(image, M, (image.shape[1], image.shape[0]))\n",
    "    \n",
    "    cv2.imshow('Rotated Image', rotate_img)\n",
    "    cv2.waitKey(0)\n",
    "    cv2.destroyAllWindows()"
   ]
  },
  {
   "cell_type": "code",
   "execution_count": 42,
   "id": "7ddd8bf8",
   "metadata": {},
   "outputs": [],
   "source": [
    "rotate(img, 30, 1)"
   ]
  }
 ],
 "metadata": {
  "kernelspec": {
   "display_name": "Python 3 (ipykernel)",
   "language": "python",
   "name": "python3"
  },
  "language_info": {
   "codemirror_mode": {
    "name": "ipython",
    "version": 3
   },
   "file_extension": ".py",
   "mimetype": "text/x-python",
   "name": "python",
   "nbconvert_exporter": "python",
   "pygments_lexer": "ipython3",
   "version": "3.10.9"
  }
 },
 "nbformat": 4,
 "nbformat_minor": 5
}
