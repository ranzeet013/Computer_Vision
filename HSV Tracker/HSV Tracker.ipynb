{
 "cells": [
  {
   "cell_type": "markdown",
   "id": "5f2dd79b",
   "metadata": {},
   "source": [
    "# HSV Tracker"
   ]
  },
  {
   "cell_type": "markdown",
   "id": "f6ad0240",
   "metadata": {},
   "source": [
    "An HSV tracker is a computer vision algorithm that tracks objects in images or videos based on their color in the HSV color space. It works by extracting the HSV values of the target object in the first frame and then finding similar color pixels in subsequent frames to track the object's movement. It is effective for objects with consistent and distinct colors but may face challenges with color changes or similar-looking objects in complex scenes."
   ]
  },
  {
   "cell_type": "code",
   "execution_count": 2,
   "id": "dcef6573",
   "metadata": {},
   "outputs": [],
   "source": [
    "import cv2\n",
    "import numpy as np\n",
    "def nothing(x):\n",
    "    pass\n",
    "\n",
    "cv2.namedWindow(\"Trackbars\")\n",
    "\n",
    "cv2.createTrackbar(\"L-H\",\"Trackbars\",0,179,nothing)\n",
    "cv2.createTrackbar(\"L-S\",\"Trackbars\",0,255,nothing)\n",
    "cv2.createTrackbar(\"L-V\",\"Trackbars\",0,255,nothing)\n",
    "cap = cv2.VideoCapture(0)\n",
    "\n",
    "while(cap.isOpened()):\n",
    "    ret, frame = cap.read()\n",
    "    \n",
    "    hsv = cv2.cvtColor(frame, cv2.COLOR_BGR2HSV)\n",
    "\n",
    "    l_h= cv2.getTrackbarPos(\"L-H,\",\"Trackbars\")\n",
    "    l_s= cv2.getTrackbarPos(\"L-S,\",\"Trackbars\")\n",
    "    l_v= cv2.getTrackbarPos(\"L-V,\",\"Trackbars\")\n",
    "\n",
    "\n",
    "    lower_blue = np.array([l_h,l_s,l_v])\n",
    "    upper_blue = np.array([u_h,u_s,u_v])\n",
    "    \n",
    "    mask = cv2.inRange(hsv, lower_blue, upper_blue)\n",
    "    res = cv2.bitwise_and(frame,frame, mask= mask)\n",
    "\n",
    "    cv2.imshow('frame',frame)\n",
    "    cv2.imshow('res',res)\n",
    "    \n",
    "    k = cv2.waitKey(5) & 0xFF\n",
    "    if k == 27:\n",
    "        break\n",
    "\n",
    "cv2.destroyAllWindows()\n",
    "cap.release()"
   ]
  },
  {
   "cell_type": "code",
   "execution_count": null,
   "id": "f6c85ff1",
   "metadata": {},
   "outputs": [],
   "source": []
  }
 ],
 "metadata": {
  "kernelspec": {
   "display_name": "Python 3 (ipykernel)",
   "language": "python",
   "name": "python3"
  },
  "language_info": {
   "codemirror_mode": {
    "name": "ipython",
    "version": 3
   },
   "file_extension": ".py",
   "mimetype": "text/x-python",
   "name": "python",
   "nbconvert_exporter": "python",
   "pygments_lexer": "ipython3",
   "version": "3.10.9"
  }
 },
 "nbformat": 4,
 "nbformat_minor": 5
}
