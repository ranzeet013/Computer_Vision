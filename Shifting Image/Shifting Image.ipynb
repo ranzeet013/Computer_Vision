{
 "cells": [
  {
   "cell_type": "markdown",
   "id": "8b1c75e0",
   "metadata": {},
   "source": [
    "# Importing Image"
   ]
  },
  {
   "cell_type": "markdown",
   "id": "a5e08480",
   "metadata": {},
   "source": [
    "Importing Image using cv2:"
   ]
  },
  {
   "cell_type": "code",
   "execution_count": 1,
   "id": "2c6bd041",
   "metadata": {},
   "outputs": [],
   "source": [
    "import cv2\n",
    "import numpy as np"
   ]
  },
  {
   "cell_type": "code",
   "execution_count": 2,
   "id": "292543a2",
   "metadata": {},
   "outputs": [],
   "source": [
    "image = cv2.imread(r'C:\\Users\\DELL\\Desktop\\python project\\open cv2\\transformation\\iroha.jpg', cv2.IMREAD_COLOR)"
   ]
  },
  {
   "cell_type": "code",
   "execution_count": 3,
   "id": "605ec125",
   "metadata": {},
   "outputs": [],
   "source": [
    "def display(winame, image):\n",
    "    cv2.imshow(winame, image)\n",
    "    cv2.waitKey(0)\n",
    "    cv2.destroyAllWindows()"
   ]
  },
  {
   "cell_type": "code",
   "execution_count": 4,
   "id": "727638ca",
   "metadata": {},
   "outputs": [],
   "source": [
    "display('iroha', image)"
   ]
  },
  {
   "cell_type": "markdown",
   "id": "285d3e77",
   "metadata": {},
   "source": [
    "# Image Shifting"
   ]
  },
  {
   "cell_type": "markdown",
   "id": "8cb3cff0",
   "metadata": {},
   "source": [
    "The image shifting project aims to develop a system that can shift images by a specified number of pixels in different directions using the OpenCV library (cv2). The project leverages computer vision techniques to manipulate the spatial position of pixels in an image, allowing for translation effects"
   ]
  },
  {
   "cell_type": "markdown",
   "id": "c504fd73",
   "metadata": {},
   "source": [
    "# Shifting Image 100px Right"
   ]
  },
  {
   "cell_type": "markdown",
   "id": "82716bd1",
   "metadata": {},
   "source": [
    "To shift an image 100 pixels to the right. It loads the image, defines the shifting amount, creates a transformation matrix, applies the transformation, and displays the original and shifted images."
   ]
  },
  {
   "cell_type": "code",
   "execution_count": 5,
   "id": "46f3aba2",
   "metadata": {},
   "outputs": [],
   "source": [
    "tx = 100\n",
    "ty = 100\n",
    "imag = np.float32([[1, 0, tx], \n",
    "            [0, 1, ty]])"
   ]
  },
  {
   "cell_type": "code",
   "execution_count": 7,
   "id": "82a8f056",
   "metadata": {},
   "outputs": [
    {
     "data": {
      "text/plain": [
       "array([[  1.,   0., 100.],\n",
       "       [  0.,   1., 100.]], dtype=float32)"
      ]
     },
     "execution_count": 7,
     "metadata": {},
     "output_type": "execute_result"
    }
   ],
   "source": [
    "imag"
   ]
  },
  {
   "cell_type": "code",
   "execution_count": 8,
   "id": "f42e49f2",
   "metadata": {},
   "outputs": [],
   "source": [
    "shift_right = cv2.warpAffine(image, imag, (image.shape[1], image.shape[0]))"
   ]
  },
  {
   "cell_type": "code",
   "execution_count": 9,
   "id": "99afa491",
   "metadata": {},
   "outputs": [],
   "source": [
    "display('Right Shifted Iroha Image', shift_right)"
   ]
  },
  {
   "cell_type": "markdown",
   "id": "2afa5213",
   "metadata": {},
   "source": [
    "# Shifting Image 100px Left"
   ]
  },
  {
   "cell_type": "markdown",
   "id": "122804bb",
   "metadata": {},
   "source": [
    "To shift an image 100 pixels to the left. It loads the image, defines the shifting amount, creates a transformation matrix, applies the transformation, and displays the original and shifted images."
   ]
  },
  {
   "cell_type": "code",
   "execution_count": 16,
   "id": "3de69f6a",
   "metadata": {},
   "outputs": [],
   "source": [
    "def shift_left(image, tx, ty):\n",
    "    img = np.float32([[1, 0, tx], \n",
    "                      [0, 1, ty]])\n",
    "    shifted_image = cv2.warpAffine(image, img, (image.shape[1], image.shape[0]))\n",
    "    display('Left Shifted Iroha Image', shifted_image)"
   ]
  },
  {
   "cell_type": "code",
   "execution_count": 19,
   "id": "12448365",
   "metadata": {},
   "outputs": [],
   "source": [
    "shift_left(image, -100, 100)"
   ]
  }
 ],
 "metadata": {
  "kernelspec": {
   "display_name": "Python 3 (ipykernel)",
   "language": "python",
   "name": "python3"
  },
  "language_info": {
   "codemirror_mode": {
    "name": "ipython",
    "version": 3
   },
   "file_extension": ".py",
   "mimetype": "text/x-python",
   "name": "python",
   "nbconvert_exporter": "python",
   "pygments_lexer": "ipython3",
   "version": "3.10.9"
  }
 },
 "nbformat": 4,
 "nbformat_minor": 5
}
