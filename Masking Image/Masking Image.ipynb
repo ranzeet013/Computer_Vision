{
 "cells": [
  {
   "cell_type": "markdown",
   "id": "c081a6dc",
   "metadata": {},
   "source": [
    "# Importing Libraries"
   ]
  },
  {
   "cell_type": "markdown",
   "id": "6394766c",
   "metadata": {},
   "source": [
    "cv2 is the OpenCV library for image processing and manipulation.\n",
    "\n",
    "numpy (abbreviated as np) is a library for numerical operations, often used for array manipulation.\n",
    "\n",
    "matplotlib.pyplot (abbreviated as plt) is a library for creating visualizations, including displaying images."
   ]
  },
  {
   "cell_type": "code",
   "execution_count": 1,
   "id": "2ef2b041",
   "metadata": {},
   "outputs": [],
   "source": [
    "import cv2\n",
    "import numpy as np\n",
    "import matplotlib.pyplot as plt"
   ]
  },
  {
   "cell_type": "markdown",
   "id": "cbee2bba",
   "metadata": {},
   "source": [
    "# Displaying Image"
   ]
  },
  {
   "cell_type": "code",
   "execution_count": 2,
   "id": "ec8cf77c",
   "metadata": {},
   "outputs": [],
   "source": [
    "image = cv2.imread(r'C:\\Users\\DELL\\Desktop\\python project\\open cv2\\masking image\\iroha.jpg')"
   ]
  },
  {
   "cell_type": "code",
   "execution_count": 3,
   "id": "c40dae98",
   "metadata": {},
   "outputs": [],
   "source": [
    "cv2.imshow('image', image)\n",
    "cv2.waitKey(0)\n",
    "cv2.destroyAllWindows()"
   ]
  },
  {
   "cell_type": "markdown",
   "id": "60e1fa91",
   "metadata": {},
   "source": [
    "# Masking Image"
   ]
  },
  {
   "cell_type": "markdown",
   "id": "28ec31c8",
   "metadata": {},
   "source": [
    "Image masking is a technique used to selectively hide or reveal parts of an image based on a binary mask. The mask consists of black and white pixels, where black pixels indicate the areas to be hidden and white pixels indicate the areas to be kept. By applying the mask to the image, you can effectively hide specific regions while preserving the rest of the image."
   ]
  },
  {
   "cell_type": "code",
   "execution_count": 4,
   "id": "1f45b7dd",
   "metadata": {},
   "outputs": [],
   "source": [
    "mask = np.zeros(image.shape[:2], dtype = 'uint8')\n",
    "cv2.imshow('masking ', mask)\n",
    "cv2.waitKey(0)\n",
    "cv2.destroyAllWindows()"
   ]
  },
  {
   "cell_type": "code",
   "execution_count": 5,
   "id": "6cfad63b",
   "metadata": {},
   "outputs": [],
   "source": [
    "cx, cy = mask.shape[1]//2, mask.shape[0]//2\n",
    "\n",
    "cv2.rectangle(mask, (cx-200, cy-200), (cx+200, cy+200), 255, -1)\n",
    "\n",
    "cv2.imshow('mask', mask)\n",
    "cv2.waitKey(0)\n",
    "cv2.destroyAllWindows()"
   ]
  },
  {
   "cell_type": "code",
   "execution_count": 6,
   "id": "fecda79a",
   "metadata": {},
   "outputs": [],
   "source": [
    "not_mask = cv2.bitwise_not(mask)\n",
    "\n",
    "cv2.imshow('not_masked', not_mask)\n",
    "cv2.waitKey(0)\n",
    "cv2.destroyAllWindows()"
   ]
  },
  {
   "cell_type": "code",
   "execution_count": 8,
   "id": "b87cb678",
   "metadata": {},
   "outputs": [],
   "source": [
    "mask_image = cv2.bitwise_and(image, image, mask = mask)\n",
    "\n",
    "cv2.imshow('Orginal Image', image)\n",
    "cv2.imshow('Mask Image', mask_image)\n",
    "cv2.waitKey(0)\n",
    "cv2.destroyAllWindows()"
   ]
  },
  {
   "cell_type": "code",
   "execution_count": 9,
   "id": "449bd374",
   "metadata": {},
   "outputs": [],
   "source": [
    "image_not_masked = cv2.bitwise_and(image, image, mask = not_mask)\n",
    "\n",
    "cv2.imshow('Orginal Image', image)\n",
    "cv2.imshow('Not_Mask Image', not_mask)\n",
    "cv2.waitKey(0)\n",
    "cv2.destroyAllWindows()"
   ]
  }
 ],
 "metadata": {
  "kernelspec": {
   "display_name": "Python 3 (ipykernel)",
   "language": "python",
   "name": "python3"
  },
  "language_info": {
   "codemirror_mode": {
    "name": "ipython",
    "version": 3
   },
   "file_extension": ".py",
   "mimetype": "text/x-python",
   "name": "python",
   "nbconvert_exporter": "python",
   "pygments_lexer": "ipython3",
   "version": "3.10.9"
  }
 },
 "nbformat": 4,
 "nbformat_minor": 5
}
