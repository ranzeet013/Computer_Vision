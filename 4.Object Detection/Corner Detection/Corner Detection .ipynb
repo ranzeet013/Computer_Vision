{
 "cells": [
  {
   "cell_type": "code",
   "execution_count": 1,
   "id": "00884cc7",
   "metadata": {},
   "outputs": [],
   "source": [
    "import cv2\n",
    "import numpy as np\n",
    "import matplotlib.pyplot as plt\n",
    "\n",
    "%matplotlib inline"
   ]
  },
  {
   "cell_type": "code",
   "execution_count": 2,
   "id": "ebfd5494",
   "metadata": {},
   "outputs": [],
   "source": [
    "import warnings\n",
    "warnings.filterwarnings('ignore')"
   ]
  },
  {
   "cell_type": "code",
   "execution_count": 5,
   "id": "fb6d634b",
   "metadata": {},
   "outputs": [
    {
     "data": {
      "image/png": "[encoded data removed]",
      "text/plain": [
       "<Figure size 432x288 with 1 Axes>"
      ]
     },
     "metadata": {
      "needs_background": "light"
     },
     "output_type": "display_data"
    }
   ],
   "source": [
    "image = cv2.imread(r'C:\\Users\\DELL\\Desktop\\python project\\open cv2\\New folder (7)\\board.jpg')\n",
    "plt.imshow(cv2.cvtColor(image, cv2.COLOR_BGR2RGB))\n",
    "plt.title('Original Image')\n",
    "plt.show()"
   ]
  },
  {
   "cell_type": "markdown",
   "id": "05f8bdda",
   "metadata": {},
   "source": [
    "### Corner Detection :"
   ]
  },
  {
   "cell_type": "markdown",
   "id": "04ef11dc",
   "metadata": {},
   "source": [
    "Corner detection using the Harris Corner Detection algorithm spots key points in images where intensity changes occur in multiple directions. By evaluating local gradients, it distinguishes corners from edges. Strong corner responses are highlighted after dilation, helping in identifying significant features for various computer vision tasks."
   ]
  },
  {
   "cell_type": "markdown",
   "id": "6dd9c86f",
   "metadata": {},
   "source": [
    "Image is loaded in grayscale and converted to floating-point format. The Harris Corner Detection algorithm is then applied to find significant corners in the image. The detected corner responses are enhanced by dilation. A threshold is applied to highlight prominent corners, which are marked with a distinctive color. The resulting image is displayed using matplotlib, showing the identified corners. Additionally, the corner-detected image is saved as 'corner_detected.png'. "
   ]
  },
  {
   "cell_type": "code",
   "execution_count": 8,
   "id": "ddc8648a",
   "metadata": {},
   "outputs": [
    {
     "name": "stderr",
     "output_type": "stream",
     "text": [
      "Clipping input data to the valid range for imshow with RGB data ([0..1] for floats or [0..255] for integers).\n"
     ]
    },
    {
     "data": {
      "image/png": "[encoded data removed]",
      "text/plain": [
       "<Figure size 432x288 with 1 Axes>"
      ]
     },
     "metadata": {
      "needs_background": "light"
     },
     "output_type": "display_data"
    },
    {
     "data": {
      "text/plain": [
       "True"
      ]
     },
     "execution_count": 8,
     "metadata": {},
     "output_type": "execute_result"
    }
   ],
   "source": [
    "image = cv2.imread(image, cv2.IMREAD_GRAYSCALE)\n",
    "image = np.float32(image)\n",
    "\n",
    "blockSize = 2\n",
    "ksize = 3\n",
    "k = 0.04\n",
    "dst = cv2.cornerHarris(image, blockSize, ksize, k)\n",
    "dst = cv2.dilate(dst, None)\n",
    "\n",
    "threshold = 0.01 * dst.max()\n",
    "corner_image = cv2.cvtColor(image, cv2.COLOR_GRAY2BGR)\n",
    "corner_image[dst > threshold] = [0, 0, 255] \n",
    "\n",
    "plt.imshow(cv2.cvtColor(corner_image, cv2.COLOR_BGR2RGB))\n",
    "plt.title('Corner Detected')\n",
    "plt.show()\n",
    "cv2.imwrite('corner_detected.png', corner_image)"
   ]
  },
  {
   "cell_type": "code",
   "execution_count": null,
   "id": "36b2bef5",
   "metadata": {},
   "outputs": [],
   "source": []
  }
 ],
 "metadata": {
  "kernelspec": {
   "display_name": "Python 3 (ipykernel)",
   "language": "python",
   "name": "python3"
  },
  "language_info": {
   "codemirror_mode": {
    "name": "ipython",
    "version": 3
   },
   "file_extension": ".py",
   "mimetype": "text/x-python",
   "name": "python",
   "nbconvert_exporter": "python",
   "pygments_lexer": "ipython3",
   "version": "3.10.9"
  }
 },
 "nbformat": 4,
 "nbformat_minor": 5
}
